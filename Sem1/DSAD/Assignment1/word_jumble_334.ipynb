{
 "cells": [
  {
   "cell_type": "code",
   "execution_count": 15,
   "id": "0dd5198c",
   "metadata": {},
   "outputs": [],
   "source": [
    "def difference(word1, word2):\n",
    "    if abs(len(word1) - len(word2)) > 1:\n",
    "        return abs(len(word1) - len(word2))\n",
    "    elif abs(len(word1) - len(word2)) == 1:\n",
    "        count = 1\n",
    "        n = len(word1) if len(word1) < len(word2) else len(word2)\n",
    "        for i in range(0, n):\n",
    "            if word1[i] != word2[i]:\n",
    "                count+=1\n",
    "        return count\n",
    "    else:\n",
    "        count = 0\n",
    "        for i in range(0, len(word1)):\n",
    "            if word1[i] != word2[i]:\n",
    "                count+=1\n",
    "        return count"
   ]
  },
  {
   "cell_type": "code",
   "execution_count": 16,
   "id": "a81e07f0",
   "metadata": {},
   "outputs": [],
   "source": [
    "def display_graph(graph):\n",
    "    for vertex in graph:\n",
    "        node = vertex\n",
    "        while node != None:\n",
    "            print(f\"{node.word}\", end = \" > \")\n",
    "            node = node.next\n",
    "        print(\" \")"
   ]
  },
  {
   "cell_type": "code",
   "execution_count": 17,
   "id": "8bfe0b69",
   "metadata": {},
   "outputs": [],
   "source": [
    "def add_adjacent(graph, vertex_index, adjacent_vertex):\n",
    "    print(f\"Adding {graph[vertex_index].word} to {adjacent_vertex.word}\")\n",
    "    current_vertex = graph[vertex_index]\n",
    "    if current_vertex.next == None:\n",
    "        current_vertex.next = adjacent_vertex\n",
    "    else:\n",
    "        temp = current_vertex.next\n",
    "        current_vertex.next = adjacent_vertex\n",
    "        adjacent_vertex.next = temp\n",
    "    return graph"
   ]
  },
  {
   "cell_type": "code",
   "execution_count": 18,
   "id": "e427d9e6",
   "metadata": {},
   "outputs": [],
   "source": [
    "class vertices:\n",
    "    def __init__(self, word):\n",
    "        self.word = word\n",
    "        self.next = None"
   ]
  },
  {
   "cell_type": "code",
   "execution_count": 19,
   "id": "7896f18c",
   "metadata": {},
   "outputs": [],
   "source": [
    "begin_word = \"cold\"\n",
    "end_word = \"warm\"\n",
    "word_list = [\"warm\",\"code\",\"card\",\"come\",\"cord\",\"ward\",\"wet\"]"
   ]
  },
  {
   "cell_type": "code",
   "execution_count": 20,
   "id": "ee21ba38",
   "metadata": {},
   "outputs": [
    {
     "name": "stdout",
     "output_type": "stream",
     "text": [
      "warm >  \n",
      "code >  \n",
      "card >  \n",
      "come >  \n",
      "cord >  \n",
      "ward >  \n",
      "wet >  \n"
     ]
    }
   ],
   "source": [
    "# Initialize graph\n",
    "graph = [vertices(word) for word in word_list]\n",
    "display_graph(graph)\n"
   ]
  },
  {
   "cell_type": "code",
   "execution_count": 21,
   "id": "8dc03922",
   "metadata": {},
   "outputs": [
    {
     "name": "stdout",
     "output_type": "stream",
     "text": [
      "Adding warm to ward\n",
      "Adding code to come\n",
      "Adding card to cord\n",
      "Adding card to ward\n",
      "Adding come to code\n",
      "Adding cord to card\n",
      "Adding ward to warm\n",
      "Adding ward to card\n"
     ]
    }
   ],
   "source": [
    "for index, vertex in enumerate(graph):\n",
    "    for word in word_list:\n",
    "        if word != vertex.word:\n",
    "            if difference(vertex.word, word) == 1:\n",
    "                adjacent_vertex = vertices(word)\n",
    "                graph = add_adjacent(graph, index, adjacent_vertex)\n",
    "            "
   ]
  },
  {
   "cell_type": "code",
   "execution_count": 22,
   "id": "d9782560",
   "metadata": {},
   "outputs": [
    {
     "name": "stdout",
     "output_type": "stream",
     "text": [
      "warm > ward >  \n",
      "code > come >  \n",
      "card > ward > cord >  \n",
      "come > code >  \n",
      "cord > card >  \n",
      "ward > card > warm >  \n",
      "wet >  \n"
     ]
    }
   ],
   "source": [
    "display_graph(graph)"
   ]
  },
  {
   "cell_type": "code",
   "execution_count": null,
   "id": "f0a91af3",
   "metadata": {},
   "outputs": [],
   "source": [
    "# def search(begin_word, end_word, vertex_index, graph):\n",
    "#     if "
   ]
  },
  {
   "cell_type": "code",
   "execution_count": null,
   "id": "fdea0460",
   "metadata": {},
   "outputs": [],
   "source": [
    "# def word_jumble(begin_word, end_word, graph):\n",
    "#     for index, vertex in enumerate(graph):\n",
    "#         if begin_word == vertex.word:\n",
    "#             return 1\n",
    "#         elif difference(begin_word, vertex.word) == 1:\n",
    "#             return search(begin_word, end_word, index, graph)"
   ]
  }
 ],
 "metadata": {
  "kernelspec": {
   "display_name": "Python 3 (ipykernel)",
   "language": "python",
   "name": "python3"
  },
  "language_info": {
   "codemirror_mode": {
    "name": "ipython",
    "version": 3
   },
   "file_extension": ".py",
   "mimetype": "text/x-python",
   "name": "python",
   "nbconvert_exporter": "python",
   "pygments_lexer": "ipython3",
   "version": "3.10.0"
  }
 },
 "nbformat": 4,
 "nbformat_minor": 5
}
